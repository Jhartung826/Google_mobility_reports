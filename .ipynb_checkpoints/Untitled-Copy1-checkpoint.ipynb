{
 "cells": [
  {
   "cell_type": "code",
   "execution_count": 1,
   "metadata": {},
   "outputs": [],
   "source": [
    "import sys\n",
    "sys.path.append(r'C:\\Users\\jhartung\\AppData\\Local\\Programs\\Python\\Python37-32\\Lib\\site-packages')\n",
    "import json\n",
    "import matplotlib.pyplot as plt\n",
    "from states import states\n",
    "import datetime as dt\n",
    "from datetime import datetime\n",
    "from bs4 import BeautifulSoup\n",
    "import requests\n",
    "import datetime as dt\n",
    "from datetime import datetime\n",
    "from datetime import timedelta\n",
    "import os\n",
    "import urllib.request\n",
    "import json\n",
    "import numpy as np"
   ]
  },
  {
   "cell_type": "code",
   "execution_count": 2,
   "metadata": {},
   "outputs": [],
   "source": [
    "with open('ordered_graphs.json') as f:\n",
    "    data = json.load(f)"
   ]
  },
  {
   "cell_type": "code",
   "execution_count": 3,
   "metadata": {},
   "outputs": [],
   "source": [
    "def pct_error(est, act):\n",
    "    [sf.index(i) for i in sf if i == 4][0]\n",
    "    if act == 0:\n",
    "        return 0\n",
    "    else:\n",
    "        return abs(est-act)/abs(act)"
   ]
  },
  {
   "cell_type": "code",
   "execution_count": 4,
   "metadata": {},
   "outputs": [],
   "source": [
    "# data[0]['Counties'][-1]"
   ]
  },
  {
   "cell_type": "code",
   "execution_count": 5,
   "metadata": {},
   "outputs": [
    {
     "data": {
      "text/plain": [
       "'04/05/20'"
      ]
     },
     "execution_count": 5,
     "metadata": {},
     "output_type": "execute_result"
    }
   ],
   "source": [
    "doc_date =  '_04_26_2020'\n",
    "(dt.datetime.strptime(doc_date,'_%m_%d_%Y')-timedelta(21)).strftime('%m/%d/%y')"
   ]
  },
  {
   "cell_type": "code",
   "execution_count": null,
   "metadata": {},
   "outputs": [],
   "source": []
  },
  {
   "cell_type": "code",
   "execution_count": 6,
   "metadata": {},
   "outputs": [
    {
     "ename": "IndexError",
     "evalue": "list index out of range",
     "output_type": "error",
     "traceback": [
      "\u001b[1;31m---------------------------------------------------------------------------\u001b[0m",
      "\u001b[1;31mIndexError\u001b[0m                                Traceback (most recent call last)",
      "\u001b[1;32m<ipython-input-6-60ca43f25eb7>\u001b[0m in \u001b[0;36m<module>\u001b[1;34m\u001b[0m\n\u001b[0;32m      1\u001b[0m \u001b[0mdata\u001b[0m\u001b[1;33m[\u001b[0m\u001b[1;36m0\u001b[0m\u001b[1;33m]\u001b[0m\u001b[1;33m[\u001b[0m\u001b[1;34m'Counties'\u001b[0m\u001b[1;33m]\u001b[0m\u001b[1;33m[\u001b[0m\u001b[1;36m49\u001b[0m\u001b[1;33m]\u001b[0m\u001b[1;33m[\u001b[0m\u001b[1;34m'Workplace'\u001b[0m\u001b[1;33m]\u001b[0m\u001b[1;33m\u001b[0m\u001b[1;33m\u001b[0m\u001b[0m\n\u001b[1;32m----> 2\u001b[1;33m \u001b[0mloc\u001b[0m \u001b[1;33m=\u001b[0m \u001b[1;33m[\u001b[0m\u001b[0mdata\u001b[0m\u001b[1;33m[\u001b[0m\u001b[1;36m0\u001b[0m\u001b[1;33m]\u001b[0m\u001b[1;33m[\u001b[0m\u001b[1;34m'Counties'\u001b[0m\u001b[1;33m]\u001b[0m\u001b[1;33m[\u001b[0m\u001b[1;36m49\u001b[0m\u001b[1;33m]\u001b[0m\u001b[1;33m[\u001b[0m\u001b[1;34m'Workplace'\u001b[0m\u001b[1;33m]\u001b[0m\u001b[1;33m[\u001b[0m\u001b[1;36m1\u001b[0m\u001b[1;33m]\u001b[0m\u001b[1;33m.\u001b[0m\u001b[0mindex\u001b[0m\u001b[1;33m(\u001b[0m\u001b[0mi\u001b[0m\u001b[1;33m)\u001b[0m \u001b[1;32mfor\u001b[0m \u001b[0mi\u001b[0m \u001b[1;32min\u001b[0m \u001b[0mdata\u001b[0m\u001b[1;33m[\u001b[0m\u001b[1;36m0\u001b[0m\u001b[1;33m]\u001b[0m\u001b[1;33m[\u001b[0m\u001b[1;34m'Counties'\u001b[0m\u001b[1;33m]\u001b[0m\u001b[1;33m[\u001b[0m\u001b[1;36m49\u001b[0m\u001b[1;33m]\u001b[0m\u001b[1;33m[\u001b[0m\u001b[1;34m'Workplace'\u001b[0m\u001b[1;33m]\u001b[0m\u001b[1;33m[\u001b[0m\u001b[1;36m1\u001b[0m\u001b[1;33m]\u001b[0m \u001b[1;32mif\u001b[0m \u001b[0mi\u001b[0m \u001b[1;33m==\u001b[0m \u001b[1;34m'04/26/20'\u001b[0m\u001b[1;33m]\u001b[0m\u001b[1;33m[\u001b[0m\u001b[1;36m0\u001b[0m\u001b[1;33m]\u001b[0m\u001b[1;33m\u001b[0m\u001b[1;33m\u001b[0m\u001b[0m\n\u001b[0m\u001b[0;32m      3\u001b[0m \u001b[1;31m# data[0]['Counties'][49]['Workplace'][0][ss]\u001b[0m\u001b[1;33m\u001b[0m\u001b[1;33m\u001b[0m\u001b[1;33m\u001b[0m\u001b[0m\n",
      "\u001b[1;31mIndexError\u001b[0m: list index out of range"
     ]
    }
   ],
   "source": [
    "data[0]['Counties'][49]['Workplace']\n",
    "loc = [data[0]['Counties'][49]['Workplace'][1].index(i) for i in data[0]['Counties'][49]['Workplace'][1] if i == '04/26/20'][0]\n",
    "# data[0]['Counties'][49]['Workplace'][0][ss]"
   ]
  },
  {
   "cell_type": "code",
   "execution_count": null,
   "metadata": {},
   "outputs": [],
   "source": [
    "# Percent error comparisons\n",
    "orig = 100/60\n",
    "sense = 100/80\n",
    "aw = 1.6\n",
    "attr_list = ['Workplace', 'Retail & recreation', 'Parks', 'Transit stations', 'Grocery & pharmacy' ,'Residential']\n",
    "base_list = ['Workplace Graphs', 'Retail Graphs' ,'Parks Graphs', 'Transit Graphs', 'Grocery & pharmacy Graphs', 'Residential Graphs']\n",
    "atbase = zip(attr_list, base_list)\n",
    "# attr_list = ['Transit stations']\n",
    "# for v in [1, .80, .75,.70,.60,1.1,1.2,1.3, orig, sense, aw]:\n",
    "airors = []\n",
    "airorsbase0 = []\n",
    "for state in range(len(data)):\n",
    "    for i in range(len(data[state]['Counties'])):\n",
    "        atbase = zip(attr_list, base_list)\n",
    "        for atr, base in atbase:\n",
    "            try:\n",
    "                if data[state]['Counties'][i][base][-2] == 0:\n",
    "        #                 try:\n",
    "                    ierror = pct_error((data[state]['Counties'][i][atr][0][-2]), data[state]['Counties'][i][atr][0][-1])\n",
    "                    airorsbase0.append(ierror)\n",
    "                    airors.append(ierror)\n",
    "                    print('appended')\n",
    "        #                 except TypeError:\n",
    "        #                     continue\n",
    "                else:\n",
    "        #                 try:\n",
    "                    print(f'{i} and {atr}')\n",
    "                    loc = [data[state]['Counties'][i][atr][1].index(j) for j in data[state]['Counties'][i][atr][1] if j == '04/26/20'][0]\n",
    "                    print(f'fary {loc}')\n",
    "                    ierror = pct_error(data[state]['Counties'][i][atr][0][loc], data[state]['Counties'][i][atr][0][-1])\n",
    "                    airors.append(ierror)\n",
    "        #                 except TypeError:\n",
    "        #                     continue\n",
    "            except KeyError:\n",
    "                continue\n",
    "print(f'all error pct error is {np.mean(airors)} while just those with a base of 0 is {np.mean(airorsbase0)} lens should NOT be the same {len(airors)} and {len(airorsbase0)}')"
   ]
  },
  {
   "cell_type": "code",
   "execution_count": null,
   "metadata": {},
   "outputs": [],
   "source": [
    "data[0]['Counties'][42][\"Transit stations\"][1]"
   ]
  },
  {
   "cell_type": "code",
   "execution_count": 7,
   "metadata": {},
   "outputs": [
    {
     "ename": "IndexError",
     "evalue": "list index out of range",
     "output_type": "error",
     "traceback": [
      "\u001b[1;31m---------------------------------------------------------------------------\u001b[0m",
      "\u001b[1;31mIndexError\u001b[0m                                Traceback (most recent call last)",
      "\u001b[1;32m<ipython-input-7-04652e8b3e4c>\u001b[0m in \u001b[0;36m<module>\u001b[1;34m\u001b[0m\n\u001b[1;32m----> 1\u001b[1;33m \u001b[1;33m[\u001b[0m\u001b[0mdata\u001b[0m\u001b[1;33m[\u001b[0m\u001b[1;36m0\u001b[0m\u001b[1;33m]\u001b[0m\u001b[1;33m[\u001b[0m\u001b[1;34m'Counties'\u001b[0m\u001b[1;33m]\u001b[0m\u001b[1;33m[\u001b[0m\u001b[1;36m44\u001b[0m\u001b[1;33m]\u001b[0m\u001b[1;33m[\u001b[0m\u001b[1;34m\"Transit stations\"\u001b[0m\u001b[1;33m]\u001b[0m\u001b[1;33m[\u001b[0m\u001b[1;36m1\u001b[0m\u001b[1;33m]\u001b[0m\u001b[1;33m.\u001b[0m\u001b[0mindex\u001b[0m\u001b[1;33m(\u001b[0m\u001b[0mi\u001b[0m\u001b[1;33m)\u001b[0m \u001b[1;32mfor\u001b[0m \u001b[0mi\u001b[0m \u001b[1;32min\u001b[0m \u001b[0mdata\u001b[0m\u001b[1;33m[\u001b[0m\u001b[1;36m0\u001b[0m\u001b[1;33m]\u001b[0m\u001b[1;33m[\u001b[0m\u001b[1;34m'Counties'\u001b[0m\u001b[1;33m]\u001b[0m\u001b[1;33m[\u001b[0m\u001b[1;36m44\u001b[0m\u001b[1;33m]\u001b[0m\u001b[1;33m[\u001b[0m\u001b[1;34m\"Transit stations\"\u001b[0m\u001b[1;33m]\u001b[0m\u001b[1;33m[\u001b[0m\u001b[1;36m1\u001b[0m\u001b[1;33m]\u001b[0m \u001b[1;32mif\u001b[0m \u001b[0mi\u001b[0m \u001b[1;33m==\u001b[0m \u001b[1;34m'04/26/20'\u001b[0m\u001b[1;33m]\u001b[0m\u001b[1;33m[\u001b[0m\u001b[1;36m0\u001b[0m\u001b[1;33m]\u001b[0m\u001b[1;33m\u001b[0m\u001b[1;33m\u001b[0m\u001b[0m\n\u001b[0m",
      "\u001b[1;31mIndexError\u001b[0m: list index out of range"
     ]
    }
   ],
   "source": [
    "[data[0]['Counties'][44][\"Transit stations\"][1].index(i) for i in data[0]['Counties'][44][\"Transit stations\"][1] if i == '04/26/20'][0]"
   ]
  },
  {
   "cell_type": "code",
   "execution_count": 8,
   "metadata": {},
   "outputs": [
    {
     "ename": "NameError",
     "evalue": "name 'base' is not defined",
     "output_type": "error",
     "traceback": [
      "\u001b[1;31m---------------------------------------------------------------------------\u001b[0m",
      "\u001b[1;31mNameError\u001b[0m                                 Traceback (most recent call last)",
      "\u001b[1;32m<ipython-input-8-6af8619e242a>\u001b[0m in \u001b[0;36m<module>\u001b[1;34m\u001b[0m\n\u001b[1;32m----> 1\u001b[1;33m \u001b[0mdata\u001b[0m\u001b[1;33m[\u001b[0m\u001b[1;36m0\u001b[0m\u001b[1;33m]\u001b[0m\u001b[1;33m[\u001b[0m\u001b[1;34m'Counties'\u001b[0m\u001b[1;33m]\u001b[0m\u001b[1;33m[\u001b[0m\u001b[1;36m1\u001b[0m\u001b[1;33m]\u001b[0m\u001b[1;33m[\u001b[0m\u001b[0mbase\u001b[0m\u001b[1;33m]\u001b[0m\u001b[1;33m[\u001b[0m\u001b[1;33m-\u001b[0m\u001b[1;36m1\u001b[0m\u001b[1;33m]\u001b[0m\u001b[1;33m\u001b[0m\u001b[1;33m\u001b[0m\u001b[0m\n\u001b[0m",
      "\u001b[1;31mNameError\u001b[0m: name 'base' is not defined"
     ]
    }
   ],
   "source": [
    "data[0]['Counties'][1][base][-1]"
   ]
  },
  {
   "cell_type": "code",
   "execution_count": 9,
   "metadata": {},
   "outputs": [
    {
     "ename": "NameError",
     "evalue": "name 'i' is not defined",
     "output_type": "error",
     "traceback": [
      "\u001b[1;31m---------------------------------------------------------------------------\u001b[0m",
      "\u001b[1;31mNameError\u001b[0m                                 Traceback (most recent call last)",
      "\u001b[1;32m<ipython-input-9-ef5f3c866a63>\u001b[0m in \u001b[0;36m<module>\u001b[1;34m\u001b[0m\n\u001b[1;32m----> 1\u001b[1;33m \u001b[0mdata\u001b[0m\u001b[1;33m[\u001b[0m\u001b[1;36m0\u001b[0m\u001b[1;33m]\u001b[0m\u001b[1;33m[\u001b[0m\u001b[1;34m'Counties'\u001b[0m\u001b[1;33m]\u001b[0m\u001b[1;33m[\u001b[0m\u001b[0mi\u001b[0m\u001b[1;33m]\u001b[0m\u001b[1;33m[\u001b[0m\u001b[0matr\u001b[0m\u001b[1;33m]\u001b[0m\u001b[1;33m[\u001b[0m\u001b[1;36m0\u001b[0m\u001b[1;33m]\u001b[0m\u001b[1;33m[\u001b[0m\u001b[1;33m-\u001b[0m\u001b[1;36m2\u001b[0m\u001b[1;33m]\u001b[0m\u001b[1;33m\u001b[0m\u001b[1;33m\u001b[0m\u001b[0m\n\u001b[0m",
      "\u001b[1;31mNameError\u001b[0m: name 'i' is not defined"
     ]
    }
   ],
   "source": [
    "data[0]['Counties'][i][atr][0][-2]"
   ]
  },
  {
   "cell_type": "code",
   "execution_count": 10,
   "metadata": {},
   "outputs": [],
   "source": [
    "# def correction(location, category):\n",
    "# dictionary[new_key] = dictionary.pop(old_key)"
   ]
  },
  {
   "cell_type": "code",
   "execution_count": 11,
   "metadata": {},
   "outputs": [],
   "source": [
    "mayrep = [[-70.03377333333333, -73.24866, -73.35491166666667, -67.17276333333334, -66.67438500000002, -66.472765, -66.66198666666666, -67.404175, -69.94374666666666, -70.04037166666669, -63.31913, -63.431715, -61.78087833333334, -58.96512333333334, -58.870875, -62.42622333333335, -62.281328333333335, -55.59426666666667, -55.54667166666666, -57.47590333333333, -56.87651333333333, -57.06479333333334, -57.65775000000001, -58.49282500000001, -56.695340000000016, -56.47625000000001, -55.13650333333334, -55.744515, -56.19663166666667, -58.53388499999999, -58.995246666666674, -54.1148, -51.98373166666668, -50.949020000000004, -50.34573833333333, -51.278774999999996, -54.672623333333334, -53.53708833333334, -53.498815, -49.57765, -48.75878666666668, -48.41884666666668, -50.22776333333333, -0.4], ['04/17/20', '04/18/20', '04/19/20', '04/20/20', '04/21/20', '04/22/20', '04/23/20', '04/24/20', '04/25/20', '04/26/20', '04/27/20', '04/28/20', '04/29/20', '04/30/20', '05/01/20', '05/02/20', '05/03/20', '05/04/20', '05/05/20', '05/06/20', '05/07/20', '05/08/20', '05/09/20', '05/10/20', '05/11/20', '05/12/20', '05/13/20', '05/14/20', '05/15/20', '05/16/20', '05/17/20', '05/18/20', '05/19/20', '05/20/20', '05/21/20', '05/22/20', '05/23/20', '05/24/20', '05/25/20', '05/26/20', '05/27/20', '05/28/20', '05/29/20', '05/29/20']]\n",
    "\n",
    "aprep = [[-20.038413333333338, -14.540786666666676, -28.965988333333335, -36.29918333333334, -39.597245, -49.49658666666667, -59.46319499999999, -62.06431, -51.425754999999995, -52.302944999999994, -53.045933333333345, -52.659288333333336, -54.93487, -62.098605000000006, -61.92371333333334, -50.48618333333333, -50.176608333333334, -49.03307666666668, -51.19461000000001, -52.214813333333346, -62.15293833333334, -66.57459333333334, -57.86738, -58.35783666666667, -58.39197833333333, -61.46124499999999, -59.31485500000001, -60.47494333333333, -78.01273333333334, -56.15451833333334, -53.43181666666666, -56.53647166666666, -67.66576166666667, -70.03377333333333, -73.24866, -73.35491166666667, -67.17276333333334, -66.67438500000002, -66.472765, -66.66198666666666, -67.404175, -69.94374666666666, -70.04037166666669, -0.56], ['03/15/20', '03/16/20', '03/17/20', '03/18/20', '03/19/20', '03/20/20', '03/21/20', '03/22/20', '03/23/20', '03/24/20', '03/25/20', '03/26/20', '03/27/20', '03/28/20', '03/29/20', '03/30/20', '03/31/20', '04/01/20', '04/02/20', '04/03/20', '04/04/20', '04/05/20', '04/06/20', '04/07/20', '04/08/20', '04/09/20', '04/10/20', '04/11/20', '04/12/20', '04/13/20', '04/14/20', '04/15/20', '04/16/20', '04/17/20', '04/18/20', '04/19/20', '04/20/20', '04/21/20', '04/22/20', '04/23/20', '04/24/20', '04/25/20', '04/26/20', '04/26/20']]\n",
    "e =  0.156005859\n",
    "f = -34.412048"
   ]
  },
  {
   "cell_type": "code",
   "execution_count": 12,
   "metadata": {},
   "outputs": [
    {
     "name": "stdout",
     "output_type": "stream",
     "text": [
      "04/26/20 mobility change is -70.04037166666669\n",
      "04/26/20 mobility change is -70.04037166666669\n"
     ]
    }
   ],
   "source": [
    "location = 42\n",
    "lm = 9\n",
    "print(f\"{aprep[1][location]} mobility change is {aprep[0][location]}\")\n",
    "print(f\"{mayrep[1][lm]} mobility change is {mayrep[0][lm]}\")"
   ]
  },
  {
   "cell_type": "code",
   "execution_count": 13,
   "metadata": {},
   "outputs": [],
   "source": [
    "multr = (mayrep[0][43]*100)/mayrep[0][42]"
   ]
  },
  {
   "cell_type": "code",
   "execution_count": 14,
   "metadata": {},
   "outputs": [],
   "source": [
    "multr = .8"
   ]
  },
  {
   "cell_type": "code",
   "execution_count": 15,
   "metadata": {},
   "outputs": [
    {
     "name": "stdout",
     "output_type": "stream",
     "text": [
      "-0.0005767380952383303\n"
     ]
    }
   ],
   "source": [
    "est = (mayrep[0][9])*multr\n",
    "act = aprep[0][43]*100\n",
    "\n",
    "print(abs(est-act)/act)\n"
   ]
  },
  {
   "cell_type": "code",
   "execution_count": 16,
   "metadata": {},
   "outputs": [
    {
     "name": "stdout",
     "output_type": "stream",
     "text": [
      "0.8201504121682976\n",
      "-17.622755073185605 and -17.0\n",
      "-0.03663265136385911\n"
     ]
    }
   ],
   "source": [
    "# groap = [[-0.17, -21.487223333333343, -16.19364500000001, -17.87646, -18.859775000000006, -19.932123333333323, -20.732103333333335, -23.797251666666668, -26.658363333333337, -21.914303333333343, -21.621120000000005, -19.976895, -20.91049166666667, -25.84767666666667, -30.78057666666666, -42.02200499999999, -18.070169999999997, -23.515536666666677, -30.378303333333346, -27.822239999999994, -28.255208333333336, -29.029489999999996, -33.53305833333333, -23.081956666666677, -15.384203333333323, -18.477770000000007, -17.716878333333337, -21.953608333333346, -24.96392499999999, -30.395406666666673, -25.49902666666666, -21.663678333333323, -21.939391666666666, -23.21989666666667, -22.139778333333336, -22.40314499999999, -27.83622666666666, -16.040688333333343, -4.373405000000001, 4.146258333333334, 5.275636666666669, 13.645788333333329, 26.657905, 13.876285000000006], ['03/15/20', '03/16/20', '03/17/20', '03/18/20', '03/19/20', '03/20/20', '03/21/20', '03/22/20', '03/23/20', '03/24/20', '03/25/20', '03/26/20', '03/27/20', '03/28/20', '03/29/20', '03/30/20', '03/31/20', '04/01/20', '04/02/20', '04/03/20', '04/04/20', '04/05/20', '04/06/20', '04/07/20', '04/08/20', '04/09/20', '04/10/20', '04/11/20', '04/12/20', '04/13/20', '04/14/20', '04/15/20', '04/16/20', '04/17/20', '04/18/20', '04/19/20', '04/20/20', '04/21/20', '04/22/20', '04/23/20', '04/24/20', '04/25/20', '04/26/20', '04/26/20']]\n",
    "# gromay = [[-0.08, -9.754308333333341, -8.398425000000008, -9.65270999999999, -9.415868333333322, -9.579188333333331, -7.495410000000007, -4.140701666666663, -5.51085833333333, -7.314071666666659, -9.34081999999999, -10.816370000000006, -16.28256499999999, -15.734723333333326, -8.787091666666669, -10.871493333333339, -12.541046666666679, -12.67609833333334, -12.698568333333332, -17.84553499999999, 0.4552266666666682, 5.616430000000001, -6.061636666666672, -9.594421666666667, -12.140223333333324, -6.97402999999999, -13.111914999999996, -14.912058333333345, -9.940096666666658, -10.630175000000008, -14.87393666666667, -18.20674833333333, -17.066803333333336, -19.236653333333322, -21.487223333333343, -16.19364500000001, -17.87646, -18.859775000000006, -19.932123333333323, -20.732103333333335, -23.797251666666668, -26.658363333333337, -21.914303333333343, -21.621120000000005], ['04/17/20', '04/18/20', '04/19/20', '04/20/20', '04/21/20', '04/22/20', '04/23/20', '04/24/20', '04/25/20', '04/26/20', '04/27/20', '04/28/20', '04/29/20', '04/30/20', '05/01/20', '05/02/20', '05/03/20', '05/04/20', '05/05/20', '05/06/20', '05/07/20', '05/08/20', '05/09/20', '05/10/20', '05/11/20', '05/12/20', '05/13/20', '05/14/20', '05/15/20', '05/16/20', '05/17/20', '05/18/20', '05/19/20', '05/20/20', '05/21/20', '05/22/20', '05/23/20', '05/24/20', '05/25/20', '05/26/20', '05/27/20', '05/28/20', '05/29/20', '05/29/20']]\n",
    "groap = [[13.876285000000006, 26.657905, 13.645788333333329, 5.275636666666669, 4.146258333333334, -4.373405000000001, -16.040688333333343, -27.83622666666666, -22.40314499999999, -22.139778333333336, -23.21989666666667, -21.939391666666666, -21.663678333333323, -25.49902666666666, -30.395406666666673, -24.96392499999999, -21.953608333333346, -17.716878333333337, -18.477770000000007, -15.384203333333323, -23.081956666666677, -33.53305833333333, -29.029489999999996, -28.255208333333336, -27.822239999999994, -30.378303333333346, -23.515536666666677, -18.070169999999997, -42.02200499999999, -30.78057666666666, -25.84767666666667, -20.91049166666667, -19.976895, -21.621120000000005, -21.914303333333343, -26.658363333333337, -23.797251666666668, -20.732103333333335, -19.932123333333323, -18.859775000000006, -17.87646, -16.19364500000001, -21.487223333333343, -0.17], ['03/15/20', '03/16/20', '03/17/20', '03/18/20', '03/19/20', '03/20/20', '03/21/20', '03/22/20', '03/23/20', '03/24/20', '03/25/20', '03/26/20', '03/27/20', '03/28/20', '03/29/20', '03/30/20', '03/31/20', '04/01/20', '04/02/20', '04/03/20', '04/04/20', '04/05/20', '04/06/20', '04/07/20', '04/08/20', '04/09/20', '04/10/20', '04/11/20', '04/12/20', '04/13/20', '04/14/20', '04/15/20', '04/16/20', '04/17/20', '04/18/20', '04/19/20', '04/20/20', '04/21/20', '04/22/20', '04/23/20', '04/24/20', '04/25/20', '04/26/20', '04/26/20']]\n",
    "gromay = [[-21.621120000000005, -21.914303333333343, -26.658363333333337, -23.797251666666668, -20.732103333333335, -19.932123333333323, -18.859775000000006, -17.87646, -16.19364500000001, -21.487223333333343, -19.236653333333322, -17.066803333333336, -18.20674833333333, -14.87393666666667, -10.630175000000008, -9.940096666666658, -14.912058333333345, -13.111914999999996, -6.97402999999999, -12.140223333333324, -9.594421666666667, -6.061636666666672, 5.616430000000001, 0.4552266666666682, -17.84553499999999, -12.698568333333332, -12.67609833333334, -12.541046666666679, -10.871493333333339, -8.787091666666669, -15.734723333333326, -16.28256499999999, -10.816370000000006, -9.34081999999999, -7.314071666666659, -5.51085833333333, -4.140701666666663, -7.495410000000007, -9.579188333333331, -9.415868333333322, -9.65270999999999, -8.398425000000008, -9.754308333333341, -0.08], ['04/17/20', '04/18/20', '04/19/20', '04/20/20', '04/21/20', '04/22/20', '04/23/20', '04/24/20', '04/25/20', '04/26/20', '04/27/20', '04/28/20', '04/29/20', '04/30/20', '05/01/20', '05/02/20', '05/03/20', '05/04/20', '05/05/20', '05/06/20', '05/07/20', '05/08/20', '05/09/20', '05/10/20', '05/11/20', '05/12/20', '05/13/20', '05/14/20', '05/15/20', '05/16/20', '05/17/20', '05/18/20', '05/19/20', '05/20/20', '05/21/20', '05/22/20', '05/23/20', '05/24/20', '05/25/20', '05/26/20', '05/27/20', '05/28/20', '05/29/20', '05/29/20']]\n",
    "\n",
    "multg = (gromay[0][43]*100)/gromay[0][42]\n",
    "print(multg)\n",
    "# multg = .8\n",
    "est = gromay[0][9]*multg\n",
    "act = groap[0][43]*100\n",
    "print(f'{est} and {act}')\n",
    "print(abs(est-act)/act)"
   ]
  },
  {
   "cell_type": "code",
   "execution_count": 17,
   "metadata": {},
   "outputs": [],
   "source": [
    "# transformeddata"
   ]
  },
  {
   "cell_type": "code",
   "execution_count": null,
   "metadata": {},
   "outputs": [],
   "source": []
  },
  {
   "cell_type": "code",
   "execution_count": 18,
   "metadata": {
    "scrolled": false
   },
   "outputs": [
    {
     "name": "stdout",
     "output_type": "stream",
     "text": [
      "key error 1\n",
      "key error 2\n",
      "key error 1\n",
      "key error 2\n",
      "key error 1\n",
      "key error 2\n",
      "key error 1\n",
      "key error 2\n",
      "key error 1\n",
      "key error 2\n",
      "key error 1\n",
      "key error 2\n",
      "key error 1\n",
      "now appending groc -0.08 for Butler County\n",
      "key error 2\n",
      "key error 1\n",
      "key error 2\n",
      "key error 1\n",
      "now appending groc -0.08 for Chambers County\n",
      "key error 2\n",
      "key error 1\n",
      "key error 2\n",
      "key error 1\n",
      "key error 2\n",
      "key error 1\n",
      "key error 2\n",
      "key error 1\n",
      "key error 2\n",
      "key error 1\n",
      "key error 2\n",
      "key error 1\n",
      "key error 2\n",
      "key error 1\n",
      "key error 2\n",
      "key error 1\n",
      "key error 2\n",
      "key error 1\n",
      "key error 2\n",
      "key error 1\n",
      "key error 2\n",
      "key error 1\n",
      "key error 2\n",
      "key error 1\n",
      "key error 2\n",
      "key error 1\n",
      "key error 2\n",
      "key error 1\n",
      "key error 2\n",
      "key error 1\n",
      "key error 2\n",
      "key error 1\n",
      "now appending groc -0.08 for DeKalb County\n",
      "key error 2\n",
      "key error 1\n",
      "key error 2\n",
      "key error 1\n",
      "key error 2\n",
      "key error 1\n",
      "key error 2\n",
      "key error 1\n",
      "key error 2\n",
      "key error 1\n",
      "key error 2\n",
      "key error 1\n",
      "key error 2\n",
      "key error 1\n",
      "key error 2\n",
      "key error 1\n",
      "key error 2\n",
      "key error 1\n",
      "key error 2\n",
      "key error 1\n",
      "key error 2\n",
      "key error 1\n",
      "key error 2\n",
      "key error 1\n",
      "key error 2\n",
      "key error 1\n",
      "key error 2\n",
      "key error 1\n",
      "key error 2\n",
      "key error 1\n",
      "key error 2\n",
      "key error 1\n",
      "key error 2\n",
      "key error 1\n",
      "key error 2\n",
      "key error 1\n",
      "key error 2\n",
      "key error 1\n",
      "key error 2\n",
      "key error 1\n",
      "key error 2\n",
      "key error 1\n",
      "key error 2\n",
      "key error 1\n",
      "key error 2\n",
      "key error 1\n",
      "key error 2\n",
      "key error 1\n",
      "key error 2\n",
      "key error 1\n",
      "key error 2\n",
      "key error 1\n",
      "key error 2\n",
      "key error 1\n",
      "key error 2\n",
      "key error 1\n",
      "key error 2\n",
      "key error 1\n",
      "key error 2\n",
      "key error 1\n",
      "key error 2\n",
      "key error 1\n",
      "key error 2\n",
      "key error 1\n",
      "key error 2\n",
      "key error 1\n",
      "key error 2\n",
      "key error 1\n",
      "key error 2\n",
      "key error 1\n",
      "key error 2\n",
      "key error 1\n",
      "key error 2\n",
      "key error 1\n",
      "key error 2\n",
      "key error 1\n",
      "key error 2\n",
      "key error 1\n",
      "key error 2\n",
      "key error 1\n",
      "key error 2\n",
      "key error 1\n",
      "key error 2\n",
      "key error 1\n",
      "key error 2\n"
     ]
    }
   ],
   "source": [
    "groc_list = []\n",
    "work_list = []\n",
    "for i in range(len(data[0][\"Counties\"])):\n",
    "    try:\n",
    "        print(f'now appending work {data[0][\"Counties\"][i][\"Retail Graphs\"][1]} for {data[0][\"Counties\"][i][\"Name\"]}')\n",
    "        work_list.append(data[0][\"Counties\"][i]['Retail Graphs'][1]-data[0][\"Counties\"][i]['Retail & recreation'][0][-1])\n",
    "    except:\n",
    "        print('key error 1')\n",
    "    try:\n",
    "        print(f'now appending groc {data[0][\"Counties\"][i][\"Transit Graphs\"][1]} for {data[0][\"Counties\"][i][\"Name\"]}')\n",
    "        groc_list.append(data[0][\"Counties\"][i]['Transit Graphs'][1] - data[0][\"Counties\"][i]['Transit stations'][0][-1])\n",
    "    except:\n",
    "        print('key error 2')"
   ]
  },
  {
   "cell_type": "code",
   "execution_count": 19,
   "metadata": {},
   "outputs": [
    {
     "ename": "ValueError",
     "evalue": "min() arg is an empty sequence",
     "output_type": "error",
     "traceback": [
      "\u001b[1;31m---------------------------------------------------------------------------\u001b[0m",
      "\u001b[1;31mValueError\u001b[0m                                Traceback (most recent call last)",
      "\u001b[1;32m<ipython-input-19-bb6cf611aad6>\u001b[0m in \u001b[0;36m<module>\u001b[1;34m\u001b[0m\n\u001b[1;32m----> 1\u001b[1;33m \u001b[1;34mf'retail max {min(work_list)} and transit min {max(groc_list)}'\u001b[0m\u001b[1;33m\u001b[0m\u001b[1;33m\u001b[0m\u001b[0m\n\u001b[0m",
      "\u001b[1;31mValueError\u001b[0m: min() arg is an empty sequence"
     ]
    }
   ],
   "source": [
    "f'retail max {min(work_list)} and transit min {max(groc_list)}'"
   ]
  },
  {
   "cell_type": "code",
   "execution_count": null,
   "metadata": {},
   "outputs": [],
   "source": []
  },
  {
   "cell_type": "code",
   "execution_count": 25,
   "metadata": {
    "scrolled": true
   },
   "outputs": [
    {
     "name": "stdout",
     "output_type": "stream",
     "text": [
      "Virginia\n",
      "132\n",
      "Wise County\n",
      "[['03/15/20', '03/16/20', '03/17/20', '03/18/20', '03/19/20', '03/20/20', '03/21/20', '03/22/20', '03/23/20', '03/24/20', '03/25/20', '03/26/20', '03/27/20', '03/28/20', '03/29/20', '03/30/20', '03/31/20', '04/01/20', '04/02/20', '04/03/20', '04/04/20', '04/05/20', '04/06/20', '04/07/20', '04/08/20', '04/09/20', '04/10/20', '04/11/20', '04/12/20', '04/13/20', '04/14/20', '04/15/20', '04/16/20', '04/17/20', '04/18/20', '04/19/20', '04/20/20', '04/21/20', '04/22/20', '04/23/20', '04/24/20', '04/25/20', '04/26/20', 'Actual Value'], [1.0989008000000013, -14.4578304, -15.789472000000002, -21.176470400000007, -23.8866448, -25.104601600000002, -18.6915888, -18.6813168, -30.923694400000002, -31.578942400000006, -35.68628000000001, -34.412952, -33.4728032, -18.6915888, -19.7802192, -35.34136960000001, -38.866393599999995, -40.0, -39.6761104, -37.6569088, -22.429907200000002, -20.87912, -40.56224319999999, -38.866393599999995, -43.9215696, -42.105260799999996, -46.861926399999994, -27.102808000000007, -29.945056, -44.076305600000005, -39.423072000000005, -41.17646560000001, -40.99190719999999, -38.0230096, -19.9766352, -24.175830399999995, -38.805224, -38.7145744, -40.29411680000001, -40.13157920000001, -38.8075312, -23.831774399999997, -23.6263792, -24.0]]\n",
      "44\n",
      "44\n"
     ]
    },
    {
     "data": {
      "text/plain": [
       "'04/01/20'"
      ]
     },
     "execution_count": 25,
     "metadata": {},
     "output_type": "execute_result"
    },
    {
     "data": {
      "image/png": "[encoded data removed]",
      "text/plain": [
       "<Figure size 432x288 with 1 Axes>"
      ]
     },
     "metadata": {
      "needs_background": "light"
     },
     "output_type": "display_data"
    }
   ],
   "source": [
    "params = [0.5715847, 0.0, 0.0, 0.5715847, -0.38250732, -34.761749]\n",
    "# mult = params[0]/.8\n",
    "# new = goodplots[-2]['data'].transpose()\n",
    "sdf = data[45]['Counties']\n",
    "print(data[45][\"State\"])\n",
    "print(len(sdf))\n",
    "ourdata = data[45]['Counties'][-3]\n",
    "print(ourdata['Name'])\n",
    "# print(data[45][\"State\"])\n",
    "# print(data[24]['Counties'][-4]['Grocery & pharmacy'])\n",
    "new = ourdata['Workplace']\n",
    "print(new)\n",
    "print(len(new[0]))\n",
    "print(len(new[1]))\n",
    "# new = data[0]['Retail & recreation']\n",
    "# mult = (-30/-37.47427666666667)\n",
    "y = (new[1])\n",
    "x = (new[0])\n",
    "\n",
    "plt.plot(x,y)\n",
    "plt.axis([x[0],x[-1],-80,80])\n",
    "ti=31\n",
    "tf= ti+len(x)\n",
    "(dt.datetime.today()-timedelta(tf)).strftime('%x')"
   ]
  },
  {
   "cell_type": "code",
   "execution_count": 21,
   "metadata": {},
   "outputs": [
    {
     "data": {
      "text/plain": [
       "array([['03/15/20', '03/16/20', '03/17/20', '03/18/20', '03/19/20',\n",
       "        '03/20/20', '03/21/20', '03/22/20', '03/23/20', '03/24/20',\n",
       "        '03/25/20', '03/26/20', '03/27/20', '03/28/20', '03/29/20',\n",
       "        '03/30/20', '03/31/20', '04/01/20', '04/02/20', '04/03/20',\n",
       "        '04/04/20', '04/05/20', '04/06/20', '04/07/20', '04/08/20',\n",
       "        '04/09/20', '04/10/20', '04/11/20', '04/12/20', '04/13/20',\n",
       "        '04/14/20', '04/15/20', '04/16/20', '04/17/20', '04/18/20',\n",
       "        '04/19/20', '04/20/20', '04/21/20', '04/22/20', '04/23/20',\n",
       "        '04/24/20', '04/25/20', '04/26/20', '04/26/20'],\n",
       "       ['1.0989008000000013', '-14.4578304', '-15.789472000000002',\n",
       "        '-21.176470400000007', '-23.8866448', '-25.104601600000002',\n",
       "        '-18.6915888', '-18.6813168', '-30.923694400000002',\n",
       "        '-31.578942400000006', '-35.68628000000001', '-34.412952',\n",
       "        '-33.4728032', '-18.6915888', '-19.7802192',\n",
       "        '-35.34136960000001', '-38.866393599999995', '-40.0',\n",
       "        '-39.6761104', '-37.6569088', '-22.429907200000002', '-20.87912',\n",
       "        '-40.56224319999999', '-38.866393599999995', '-43.9215696',\n",
       "        '-42.105260799999996', '-46.861926399999994',\n",
       "        '-27.102808000000007', '-29.945056', '-44.076305600000005',\n",
       "        '-39.423072000000005', '-41.17646560000001',\n",
       "        '-40.99190719999999', '-38.0230096', '-19.9766352',\n",
       "        '-24.175830399999995', '-38.805224', '-38.7145744',\n",
       "        '-40.29411680000001', '-40.13157920000001', '-38.8075312',\n",
       "        '-23.831774399999997', '-24.0', '-24.0']], dtype='<U19')"
      ]
     },
     "execution_count": 21,
     "metadata": {},
     "output_type": "execute_result"
    }
   ],
   "source": [
    "np.array([['03/15/20', '03/16/20', '03/17/20', '03/18/20', '03/19/20', '03/20/20', '03/21/20', '03/22/20', '03/23/20', '03/24/20', '03/25/20', '03/26/20', '03/27/20', '03/28/20', '03/29/20', '03/30/20', '03/31/20', '04/01/20', '04/02/20', '04/03/20', '04/04/20', '04/05/20', '04/06/20', '04/07/20', '04/08/20', '04/09/20', '04/10/20', '04/11/20', '04/12/20', '04/13/20', '04/14/20', '04/15/20', '04/16/20', '04/17/20', '04/18/20', '04/19/20', '04/20/20', '04/21/20', '04/22/20', '04/23/20', '04/24/20', '04/25/20', '04/26/20', '04/26/20'], [1.0989008000000013, -14.4578304, -15.789472000000002, -21.176470400000007, -23.8866448, -25.104601600000002, -18.6915888, -18.6813168, -30.923694400000002, -31.578942400000006, -35.68628000000001, -34.412952, -33.4728032, -18.6915888, -19.7802192, -35.34136960000001, -38.866393599999995, -40.0, -39.6761104, -37.6569088, -22.429907200000002, -20.87912, -40.56224319999999, -38.866393599999995, -43.9215696, -42.105260799999996, -46.861926399999994, -27.102808000000007, -29.945056, -44.076305600000005, -39.423072000000005, -41.17646560000001, -40.99190719999999, -38.0230096, -19.9766352, -24.175830399999995, -38.805224, -38.7145744, -40.29411680000001, -40.13157920000001, -38.8075312, -23.831774399999997, -24.0, -24.0]])"
   ]
  },
  {
   "cell_type": "code",
   "execution_count": 22,
   "metadata": {},
   "outputs": [
    {
     "name": "stdout",
     "output_type": "stream",
     "text": [
      "county number 0 is Accomack County\n",
      "county number 1 is Albemarle County\n",
      "county number 2 is Alexandria\n",
      "county number 3 is Alleghany County\n",
      "county number 4 is Amelia County\n",
      "county number 5 is Amherst County\n",
      "county number 6 is Appomattox County\n",
      "county number 7 is Arlington County\n",
      "county number 8 is Augusta County\n",
      "county number 9 is Bath County\n",
      "county number 10 is Bedford County\n",
      "county number 11 is Bland County\n",
      "county number 12 is Botetourt County\n",
      "county number 13 is Bristol\n",
      "county number 14 is Brunswick County\n",
      "county number 15 is Buchanan County\n",
      "county number 16 is Buckingham County\n",
      "county number 17 is Buena Vista\n",
      "county number 18 is Campbell County\n",
      "county number 19 is Caroline County\n",
      "county number 20 is Carroll County\n",
      "county number 21 is Charles City County\n",
      "county number 22 is Charlotte County\n",
      "county number 23 is Charlottesville\n",
      "county number 24 is Chesapeake\n",
      "county number 25 is Chesterfield County\n",
      "county number 26 is Clarke County\n",
      "county number 27 is Colonial Heights\n",
      "county number 28 is Covington\n",
      "county number 29 is Craig County\n",
      "county number 30 is Culpeper County\n",
      "county number 31 is Cumberland County\n",
      "county number 32 is Danville\n",
      "county number 33 is Dickenson County\n",
      "county number 34 is Dinwiddie County\n",
      "county number 35 is Emporia\n",
      "county number 36 is Essex County\n",
      "county number 37 is Fairfax\n",
      "county number 38 is Fairfax County\n",
      "county number 39 is Falls Church\n",
      "county number 40 is Fauquier County\n",
      "county number 41 is Floyd County\n",
      "county number 42 is Fluvanna County\n",
      "county number 43 is Franklin\n",
      "county number 44 is Franklin County\n",
      "county number 45 is Frederick County\n",
      "county number 46 is Fredericksburg\n",
      "county number 47 is Galax\n",
      "county number 48 is Giles County\n",
      "county number 49 is Gloucester County\n",
      "county number 50 is Goochland County\n",
      "county number 51 is Grayson County\n",
      "county number 52 is Greene County\n",
      "county number 53 is Greensville County\n",
      "county number 54 is Halifax County\n",
      "county number 55 is Hampton\n",
      "county number 56 is Hanover County\n",
      "county number 57 is Harrisonburg\n",
      "county number 58 is Henrico County\n",
      "county number 59 is Henry County\n",
      "county number 60 is Hopewell\n",
      "county number 61 is Isle of Wight County\n",
      "county number 62 is James City County\n",
      "county number 63 is King George County\n",
      "county number 64 is King William County\n",
      "county number 65 is King and Queen County\n",
      "county number 66 is Lancaster County\n",
      "county number 67 is Lee County\n",
      "county number 68 is Lexington\n",
      "county number 69 is Loudoun County\n",
      "county number 70 is Louisa County\n",
      "county number 71 is Lunenburg County\n",
      "county number 72 is Lynchburg\n",
      "county number 73 is Madison County\n",
      "county number 74 is Manassas\n",
      "county number 75 is Manassas Park\n",
      "county number 76 is Martinsville\n",
      "county number 77 is Mathews County\n",
      "county number 78 is Mecklenburg County\n",
      "county number 79 is Middlesex County\n",
      "county number 80 is Montgomery County\n",
      "county number 81 is Nelson County\n",
      "county number 82 is New Kent County\n",
      "county number 83 is Newport News\n",
      "county number 84 is Norfolk\n",
      "county number 85 is Northampton County\n",
      "county number 86 is Northumberland County\n",
      "county number 87 is Norton\n",
      "county number 88 is Nottoway County\n",
      "county number 89 is Orange County\n",
      "county number 90 is Page County\n",
      "county number 91 is Patrick County\n",
      "county number 92 is Petersburg\n",
      "county number 93 is Pittsylvania County\n",
      "county number 94 is Poquoson\n",
      "county number 95 is Portsmouth\n",
      "county number 96 is Powhatan County\n",
      "county number 97 is Prince Edward County\n",
      "county number 98 is Prince George County\n",
      "county number 99 is Prince William County\n",
      "county number 100 is Pulaski County\n",
      "county number 101 is Radford\n",
      "county number 102 is Rappahannock County\n",
      "county number 103 is Richmond\n",
      "county number 104 is Richmond County\n",
      "county number 105 is Roanoke\n",
      "county number 106 is Roanoke County\n",
      "county number 107 is Rockbridge County\n",
      "county number 108 is Rockingham County\n",
      "county number 109 is Russell County\n",
      "county number 110 is Salem\n",
      "county number 111 is Scott County\n",
      "county number 112 is Shenandoah County\n",
      "county number 113 is Smyth County\n",
      "county number 114 is Southampton County\n",
      "county number 115 is Spotsylvania County\n",
      "county number 116 is Stafford County\n",
      "county number 117 is Staunton\n",
      "county number 118 is Suffolk\n",
      "county number 119 is Surry County\n",
      "county number 120 is Sussex County\n",
      "county number 121 is Tazewell County\n",
      "county number 122 is Virginia Beach\n",
      "county number 123 is Warren County\n",
      "county number 124 is Washington County\n",
      "county number 125 is Waynesboro\n",
      "county number 126 is Westmoreland County\n",
      "county number 127 is Williamsburg\n",
      "county number 128 is Winchester\n",
      "county number 129 is Wise County\n",
      "county number 130 is Wythe County\n",
      "county number 131 is York County\n"
     ]
    }
   ],
   "source": [
    "\n",
    "for c in range(len(data[45]['Counties'])):\n",
    "    print(f\"county number {c} is {data[45]['Counties'][c]['Name']}\")"
   ]
  },
  {
   "cell_type": "code",
   "execution_count": 23,
   "metadata": {},
   "outputs": [],
   "source": [
    "import pandas as pd\n",
    "# pd.DataFrame({'x':x, 'y': y}).to_csv('excelgraph.csv', index=False)"
   ]
  },
  {
   "cell_type": "code",
   "execution_count": 24,
   "metadata": {},
   "outputs": [
    {
     "name": "stdout",
     "output_type": "stream",
     "text": [
      "Virginia\n",
      "192\n",
      "0\n"
     ]
    },
    {
     "ename": "ValueError",
     "evalue": "Length of values does not match length of index",
     "output_type": "error",
     "traceback": [
      "\u001b[1;31m---------------------------------------------------------------------------\u001b[0m",
      "\u001b[1;31mValueError\u001b[0m                                Traceback (most recent call last)",
      "\u001b[1;32m<ipython-input-24-adc84cc19e50>\u001b[0m in \u001b[0;36m<module>\u001b[1;34m\u001b[0m\n\u001b[0;32m     58\u001b[0m \u001b[0mprint\u001b[0m\u001b[1;33m(\u001b[0m\u001b[0mlen\u001b[0m\u001b[1;33m(\u001b[0m\u001b[0mdf\u001b[0m\u001b[1;33m.\u001b[0m\u001b[0mstatenum\u001b[0m\u001b[1;33m.\u001b[0m\u001b[0mtolist\u001b[0m\u001b[1;33m(\u001b[0m\u001b[1;33m)\u001b[0m\u001b[1;33m)\u001b[0m\u001b[1;33m)\u001b[0m\u001b[1;33m\u001b[0m\u001b[1;33m\u001b[0m\u001b[0m\n\u001b[0;32m     59\u001b[0m \u001b[0mprint\u001b[0m\u001b[1;33m(\u001b[0m\u001b[0mlen\u001b[0m\u001b[1;33m(\u001b[0m\u001b[0mactual_list\u001b[0m\u001b[1;33m)\u001b[0m\u001b[1;33m)\u001b[0m\u001b[1;33m\u001b[0m\u001b[1;33m\u001b[0m\u001b[0m\n\u001b[1;32m---> 60\u001b[1;33m \u001b[0mdf\u001b[0m\u001b[1;33m[\u001b[0m\u001b[1;34m'actual_values'\u001b[0m\u001b[1;33m]\u001b[0m \u001b[1;33m=\u001b[0m \u001b[0mactual_list\u001b[0m\u001b[1;33m\u001b[0m\u001b[1;33m\u001b[0m\u001b[0m\n\u001b[0m\u001b[0;32m     61\u001b[0m \u001b[0mdf\u001b[0m\u001b[1;33m[\u001b[0m\u001b[1;34m'changes'\u001b[0m\u001b[1;33m]\u001b[0m \u001b[1;33m=\u001b[0m \u001b[0mactual_vals\u001b[0m\u001b[1;33m\u001b[0m\u001b[1;33m\u001b[0m\u001b[0m\n\u001b[0;32m     62\u001b[0m \u001b[0mdf\u001b[0m\u001b[1;33m.\u001b[0m\u001b[0mto_csv\u001b[0m\u001b[1;33m(\u001b[0m\u001b[1;34m'comparison.csv'\u001b[0m\u001b[1;33m,\u001b[0m \u001b[0mindex\u001b[0m\u001b[1;33m=\u001b[0m\u001b[1;32mFalse\u001b[0m\u001b[1;33m)\u001b[0m\u001b[1;33m\u001b[0m\u001b[1;33m\u001b[0m\u001b[0m\n",
      "\u001b[1;32m~\\AppData\\Local\\Continuum\\anaconda3\\lib\\site-packages\\pandas\\core\\frame.py\u001b[0m in \u001b[0;36m__setitem__\u001b[1;34m(self, key, value)\u001b[0m\n\u001b[0;32m   3470\u001b[0m         \u001b[1;32melse\u001b[0m\u001b[1;33m:\u001b[0m\u001b[1;33m\u001b[0m\u001b[1;33m\u001b[0m\u001b[0m\n\u001b[0;32m   3471\u001b[0m             \u001b[1;31m# set column\u001b[0m\u001b[1;33m\u001b[0m\u001b[1;33m\u001b[0m\u001b[1;33m\u001b[0m\u001b[0m\n\u001b[1;32m-> 3472\u001b[1;33m             \u001b[0mself\u001b[0m\u001b[1;33m.\u001b[0m\u001b[0m_set_item\u001b[0m\u001b[1;33m(\u001b[0m\u001b[0mkey\u001b[0m\u001b[1;33m,\u001b[0m \u001b[0mvalue\u001b[0m\u001b[1;33m)\u001b[0m\u001b[1;33m\u001b[0m\u001b[1;33m\u001b[0m\u001b[0m\n\u001b[0m\u001b[0;32m   3473\u001b[0m \u001b[1;33m\u001b[0m\u001b[0m\n\u001b[0;32m   3474\u001b[0m     \u001b[1;32mdef\u001b[0m \u001b[0m_setitem_slice\u001b[0m\u001b[1;33m(\u001b[0m\u001b[0mself\u001b[0m\u001b[1;33m,\u001b[0m \u001b[0mkey\u001b[0m\u001b[1;33m,\u001b[0m \u001b[0mvalue\u001b[0m\u001b[1;33m)\u001b[0m\u001b[1;33m:\u001b[0m\u001b[1;33m\u001b[0m\u001b[1;33m\u001b[0m\u001b[0m\n",
      "\u001b[1;32m~\\AppData\\Local\\Continuum\\anaconda3\\lib\\site-packages\\pandas\\core\\frame.py\u001b[0m in \u001b[0;36m_set_item\u001b[1;34m(self, key, value)\u001b[0m\n\u001b[0;32m   3547\u001b[0m \u001b[1;33m\u001b[0m\u001b[0m\n\u001b[0;32m   3548\u001b[0m         \u001b[0mself\u001b[0m\u001b[1;33m.\u001b[0m\u001b[0m_ensure_valid_index\u001b[0m\u001b[1;33m(\u001b[0m\u001b[0mvalue\u001b[0m\u001b[1;33m)\u001b[0m\u001b[1;33m\u001b[0m\u001b[1;33m\u001b[0m\u001b[0m\n\u001b[1;32m-> 3549\u001b[1;33m         \u001b[0mvalue\u001b[0m \u001b[1;33m=\u001b[0m \u001b[0mself\u001b[0m\u001b[1;33m.\u001b[0m\u001b[0m_sanitize_column\u001b[0m\u001b[1;33m(\u001b[0m\u001b[0mkey\u001b[0m\u001b[1;33m,\u001b[0m \u001b[0mvalue\u001b[0m\u001b[1;33m)\u001b[0m\u001b[1;33m\u001b[0m\u001b[1;33m\u001b[0m\u001b[0m\n\u001b[0m\u001b[0;32m   3550\u001b[0m         \u001b[0mNDFrame\u001b[0m\u001b[1;33m.\u001b[0m\u001b[0m_set_item\u001b[0m\u001b[1;33m(\u001b[0m\u001b[0mself\u001b[0m\u001b[1;33m,\u001b[0m \u001b[0mkey\u001b[0m\u001b[1;33m,\u001b[0m \u001b[0mvalue\u001b[0m\u001b[1;33m)\u001b[0m\u001b[1;33m\u001b[0m\u001b[1;33m\u001b[0m\u001b[0m\n\u001b[0;32m   3551\u001b[0m \u001b[1;33m\u001b[0m\u001b[0m\n",
      "\u001b[1;32m~\\AppData\\Local\\Continuum\\anaconda3\\lib\\site-packages\\pandas\\core\\frame.py\u001b[0m in \u001b[0;36m_sanitize_column\u001b[1;34m(self, key, value, broadcast)\u001b[0m\n\u001b[0;32m   3732\u001b[0m \u001b[1;33m\u001b[0m\u001b[0m\n\u001b[0;32m   3733\u001b[0m             \u001b[1;31m# turn me into an ndarray\u001b[0m\u001b[1;33m\u001b[0m\u001b[1;33m\u001b[0m\u001b[1;33m\u001b[0m\u001b[0m\n\u001b[1;32m-> 3734\u001b[1;33m             \u001b[0mvalue\u001b[0m \u001b[1;33m=\u001b[0m \u001b[0msanitize_index\u001b[0m\u001b[1;33m(\u001b[0m\u001b[0mvalue\u001b[0m\u001b[1;33m,\u001b[0m \u001b[0mself\u001b[0m\u001b[1;33m.\u001b[0m\u001b[0mindex\u001b[0m\u001b[1;33m,\u001b[0m \u001b[0mcopy\u001b[0m\u001b[1;33m=\u001b[0m\u001b[1;32mFalse\u001b[0m\u001b[1;33m)\u001b[0m\u001b[1;33m\u001b[0m\u001b[1;33m\u001b[0m\u001b[0m\n\u001b[0m\u001b[0;32m   3735\u001b[0m             \u001b[1;32mif\u001b[0m \u001b[1;32mnot\u001b[0m \u001b[0misinstance\u001b[0m\u001b[1;33m(\u001b[0m\u001b[0mvalue\u001b[0m\u001b[1;33m,\u001b[0m \u001b[1;33m(\u001b[0m\u001b[0mnp\u001b[0m\u001b[1;33m.\u001b[0m\u001b[0mndarray\u001b[0m\u001b[1;33m,\u001b[0m \u001b[0mIndex\u001b[0m\u001b[1;33m)\u001b[0m\u001b[1;33m)\u001b[0m\u001b[1;33m:\u001b[0m\u001b[1;33m\u001b[0m\u001b[1;33m\u001b[0m\u001b[0m\n\u001b[0;32m   3736\u001b[0m                 \u001b[1;32mif\u001b[0m \u001b[0misinstance\u001b[0m\u001b[1;33m(\u001b[0m\u001b[0mvalue\u001b[0m\u001b[1;33m,\u001b[0m \u001b[0mlist\u001b[0m\u001b[1;33m)\u001b[0m \u001b[1;32mand\u001b[0m \u001b[0mlen\u001b[0m\u001b[1;33m(\u001b[0m\u001b[0mvalue\u001b[0m\u001b[1;33m)\u001b[0m \u001b[1;33m>\u001b[0m \u001b[1;36m0\u001b[0m\u001b[1;33m:\u001b[0m\u001b[1;33m\u001b[0m\u001b[1;33m\u001b[0m\u001b[0m\n",
      "\u001b[1;32m~\\AppData\\Local\\Continuum\\anaconda3\\lib\\site-packages\\pandas\\core\\internals\\construction.py\u001b[0m in \u001b[0;36msanitize_index\u001b[1;34m(data, index, copy)\u001b[0m\n\u001b[0;32m    610\u001b[0m \u001b[1;33m\u001b[0m\u001b[0m\n\u001b[0;32m    611\u001b[0m     \u001b[1;32mif\u001b[0m \u001b[0mlen\u001b[0m\u001b[1;33m(\u001b[0m\u001b[0mdata\u001b[0m\u001b[1;33m)\u001b[0m \u001b[1;33m!=\u001b[0m \u001b[0mlen\u001b[0m\u001b[1;33m(\u001b[0m\u001b[0mindex\u001b[0m\u001b[1;33m)\u001b[0m\u001b[1;33m:\u001b[0m\u001b[1;33m\u001b[0m\u001b[1;33m\u001b[0m\u001b[0m\n\u001b[1;32m--> 612\u001b[1;33m         \u001b[1;32mraise\u001b[0m \u001b[0mValueError\u001b[0m\u001b[1;33m(\u001b[0m\u001b[1;34m\"Length of values does not match length of index\"\u001b[0m\u001b[1;33m)\u001b[0m\u001b[1;33m\u001b[0m\u001b[1;33m\u001b[0m\u001b[0m\n\u001b[0m\u001b[0;32m    613\u001b[0m \u001b[1;33m\u001b[0m\u001b[0m\n\u001b[0;32m    614\u001b[0m     \u001b[1;32mif\u001b[0m \u001b[0misinstance\u001b[0m\u001b[1;33m(\u001b[0m\u001b[0mdata\u001b[0m\u001b[1;33m,\u001b[0m \u001b[0mABCIndexClass\u001b[0m\u001b[1;33m)\u001b[0m \u001b[1;32mand\u001b[0m \u001b[1;32mnot\u001b[0m \u001b[0mcopy\u001b[0m\u001b[1;33m:\u001b[0m\u001b[1;33m\u001b[0m\u001b[1;33m\u001b[0m\u001b[0m\n",
      "\u001b[1;31mValueError\u001b[0m: Length of values does not match length of index"
     ]
    }
   ],
   "source": [
    "actual_list = []\n",
    "actual_vals = []\n",
    "state = 45\n",
    "print(data[state]['State'])\n",
    "for sect in range(len(data[state]['Counties'])):\n",
    "    try:\n",
    "        data[state]['Counties'][sect]['Retail & recreation'][0][0]+7\n",
    "        actual_list.append('Retail')\n",
    "        actual_vals.append(data[state]['Counties'][sect]['Retail & recreation'][0][-1])\n",
    "    except TypeError:\n",
    "        5+7\n",
    "    try:\n",
    "        data[state]['Counties'][sect]['Grocery & pharmacy'][0][0]+4\n",
    "        actual_list.append('Grocery')\n",
    "        actual_vals.append(data[state]['Counties'][sect]['Grocery & pharmacy'][0][-1])\n",
    "    except TypeError:\n",
    "        5+7\n",
    "    try:\n",
    "        data[state]['Counties'][sect]['Parks'][0][0]+4\n",
    "        actual_list.append('Parks')\n",
    "        actual_vals.append(data[state]['Counties'][sect]['Parks'][0][-1])\n",
    "    except TypeError:\n",
    "        5+7\n",
    "    try:\n",
    "        data[state]['Counties'][sect]['Transit stations'][0][0]+4\n",
    "        actual_list.append('Transit')\n",
    "        actual_vals.append(data[state]['Counties'][sect]['Transit stations'][0][-1])\n",
    "    except TypeError:\n",
    "        5+7\n",
    "    try:\n",
    "        data[state]['Counties'][sect]['Workplace'][0][0]+4\n",
    "        actual_list.append('Workplace')\n",
    "        actual_vals.append(data[state]['Counties'][sect]['Workplace'][0][-1])\n",
    "    except TypeError:\n",
    "        5+7\n",
    "    try:\n",
    "        data[state]['Counties'][sect]['Residential'][0][0]+4\n",
    "        actual_list.append('Residential')\n",
    "        actual_vals.append(data[state]['Counties'][sect]['Residential'][0][-1])\n",
    "    except TypeError:\n",
    "        5+7\n",
    "df = pd.read_csv('es to base2.csv')\n",
    "df = df.loc[df[\"statenum\"] == state+1]\n",
    "last_page = max(df.pagenum.tolist())+1\n",
    "mean_list = []    \n",
    "for i in range(2,last_page):\n",
    "    cur = df.loc[df[\"pagenum\"] == i]\n",
    "    f_vals = cur['f changed'].tolist()\n",
    "    unique = list(set(f_vals))\n",
    "    f_mean = np.mean(unique)\n",
    "    for j in range(len(f_vals)):\n",
    "        mean_list.append(f_mean)\n",
    "df['average'] = mean_list\n",
    "# our_vals.to_csv('all sample.csv', index=False)\n",
    "\n",
    "\n",
    "\n",
    "print(len(df.statenum.tolist()))\n",
    "print(len(actual_list))\n",
    "df['actual_values'] = actual_list\n",
    "df['changes'] = actual_vals\n",
    "df.to_csv('comparison.csv', index=False)"
   ]
  },
  {
   "cell_type": "code",
   "execution_count": 25,
   "metadata": {},
   "outputs": [
    {
     "data": {
      "text/plain": [
       "'Actual Value'"
      ]
     },
     "execution_count": 25,
     "metadata": {},
     "output_type": "execute_result"
    }
   ],
   "source": [
    "data[state]['Counties'][sect]['Retail & recreation'][0][-1]\n"
   ]
  },
  {
   "cell_type": "code",
   "execution_count": 26,
   "metadata": {},
   "outputs": [
    {
     "data": {
      "text/plain": [
       "True"
      ]
     },
     "execution_count": 26,
     "metadata": {},
     "output_type": "execute_result"
    }
   ],
   "source": [
    "(0 % 2) == 0"
   ]
  },
  {
   "cell_type": "code",
   "execution_count": 27,
   "metadata": {},
   "outputs": [
    {
     "data": {
      "text/plain": [
       "-2.55706595"
      ]
     },
     "execution_count": 27,
     "metadata": {},
     "output_type": "execute_result"
    }
   ],
   "source": [
    "params = [0.5715847, 0.0, 0.0, 0.5715847, -0.38250732, -34.761749]\n",
    "\n",
    "\n",
    "params[3]+params[4]+-2.74614333 "
   ]
  },
  {
   "cell_type": "code",
   "execution_count": 28,
   "metadata": {},
   "outputs": [
    {
     "data": {
      "text/plain": [
       "True"
      ]
     },
     "execution_count": 28,
     "metadata": {},
     "output_type": "execute_result"
    }
   ],
   "source": [
    "halo =.16\n",
    "\n",
    "(abs(halo) > .15 and abs(halo) < 0.20)"
   ]
  },
  {
   "cell_type": "code",
   "execution_count": 29,
   "metadata": {},
   "outputs": [
    {
     "ename": "SyntaxError",
     "evalue": "unexpected EOF while parsing (<ipython-input-29-df38819d88be>, line 15)",
     "output_type": "error",
     "traceback": [
      "\u001b[1;36m  File \u001b[1;32m\"<ipython-input-29-df38819d88be>\"\u001b[1;36m, line \u001b[1;32m15\u001b[0m\n\u001b[1;33m    \u001b[0m\n\u001b[1;37m    ^\u001b[0m\n\u001b[1;31mSyntaxError\u001b[0m\u001b[1;31m:\u001b[0m unexpected EOF while parsing\n"
     ]
    }
   ],
   "source": [
    "def find_y(corlist):\n",
    "    templist = []\n",
    "    for i in soto:\n",
    "        if not i in templist:\n",
    "            templist.append(i)\n",
    "    if len(templist) == 4:\n",
    "        switcher = {\n",
    "            templist[0]: 'top',\n",
    "            templist[1]: 'bottom',\n",
    "            templist[2]: 'top',\n",
    "            templist[3]: 'bottom'\n",
    "        }\n",
    "    elif len(corlist) == 3:\n",
    "        \n",
    "        "
   ]
  },
  {
   "cell_type": "code",
   "execution_count": 31,
   "metadata": {
    "scrolled": false
   },
   "outputs": [
    {
     "name": "stdout",
     "output_type": "stream",
     "text": [
      "[-0.131775, 0.169022, -0.41888400000000003, -0.07901]\n"
     ]
    }
   ],
   "source": [
    "unique = list(set(f_vals))\n",
    "print(unique)"
   ]
  },
  {
   "cell_type": "code",
   "execution_count": 32,
   "metadata": {},
   "outputs": [],
   "source": [
    "import pandas as pd\n",
    "import numpy as np\n",
    "our_vals = pd.read_csv('es to base2 alabama.csv')"
   ]
  },
  {
   "cell_type": "code",
   "execution_count": 33,
   "metadata": {},
   "outputs": [
    {
     "ename": "TypeError",
     "evalue": "object of type 'int' has no len()",
     "output_type": "error",
     "traceback": [
      "\u001b[1;31m---------------------------------------------------------------------------\u001b[0m",
      "\u001b[1;31mTypeError\u001b[0m                                 Traceback (most recent call last)",
      "\u001b[1;32m<ipython-input-33-55be8298dd5c>\u001b[0m in \u001b[0;36m<module>\u001b[1;34m\u001b[0m\n\u001b[0;32m      1\u001b[0m \u001b[0mmean_list\u001b[0m \u001b[1;33m=\u001b[0m \u001b[1;33m[\u001b[0m\u001b[1;33m]\u001b[0m\u001b[1;33m\u001b[0m\u001b[1;33m\u001b[0m\u001b[0m\n\u001b[1;32m----> 2\u001b[1;33m \u001b[1;32mfor\u001b[0m \u001b[0mstate\u001b[0m \u001b[1;32min\u001b[0m \u001b[0mrange\u001b[0m\u001b[1;33m(\u001b[0m\u001b[0mlen\u001b[0m\u001b[1;33m(\u001b[0m\u001b[1;36m50\u001b[0m\u001b[1;33m)\u001b[0m\u001b[1;33m)\u001b[0m\u001b[1;33m:\u001b[0m\u001b[1;33m\u001b[0m\u001b[1;33m\u001b[0m\u001b[0m\n\u001b[0m\u001b[0;32m      3\u001b[0m \u001b[1;33m\u001b[0m\u001b[0m\n\u001b[0;32m      4\u001b[0m     \u001b[1;32mfor\u001b[0m \u001b[0mi\u001b[0m \u001b[1;32min\u001b[0m \u001b[0mrange\u001b[0m\u001b[1;33m(\u001b[0m\u001b[1;36m2\u001b[0m\u001b[1;33m,\u001b[0m\u001b[1;36m36\u001b[0m\u001b[1;33m)\u001b[0m\u001b[1;33m:\u001b[0m\u001b[1;33m\u001b[0m\u001b[1;33m\u001b[0m\u001b[0m\n\u001b[0;32m      5\u001b[0m         \u001b[0mcur\u001b[0m \u001b[1;33m=\u001b[0m \u001b[0mour_vals\u001b[0m\u001b[1;33m.\u001b[0m\u001b[0mloc\u001b[0m\u001b[1;33m[\u001b[0m\u001b[0mour_vals\u001b[0m\u001b[1;33m[\u001b[0m\u001b[1;34m\"pagenum\"\u001b[0m\u001b[1;33m]\u001b[0m \u001b[1;33m==\u001b[0m \u001b[0mi\u001b[0m\u001b[1;33m]\u001b[0m\u001b[1;33m\u001b[0m\u001b[1;33m\u001b[0m\u001b[0m\n",
      "\u001b[1;31mTypeError\u001b[0m: object of type 'int' has no len()"
     ]
    }
   ],
   "source": [
    "mean_list = []\n",
    "for state in range(len(50)):\n",
    "        \n",
    "    for i in range(2,36):\n",
    "        cur = our_vals.loc[our_vals[\"pagenum\"] == i]\n",
    "        f_vals = cur['f changed'].tolist()\n",
    "        f_mean = np.mean(f_vals)\n",
    "        for j in range(len(f_vals)):\n",
    "            mean_list.append(f_mean)\n",
    "our_vals['average'] = mean_list\n",
    "our_vals.to_csv('all sample.csv', index=False)"
   ]
  },
  {
   "cell_type": "code",
   "execution_count": 34,
   "metadata": {},
   "outputs": [
    {
     "data": {
      "text/html": [
       "<div>\n",
       "<style scoped>\n",
       "    .dataframe tbody tr th:only-of-type {\n",
       "        vertical-align: middle;\n",
       "    }\n",
       "\n",
       "    .dataframe tbody tr th {\n",
       "        vertical-align: top;\n",
       "    }\n",
       "\n",
       "    .dataframe thead th {\n",
       "        text-align: right;\n",
       "    }\n",
       "</style>\n",
       "<table border=\"1\" class=\"dataframe\">\n",
       "  <thead>\n",
       "    <tr style=\"text-align: right;\">\n",
       "      <th></th>\n",
       "      <th>statenum</th>\n",
       "      <th>e</th>\n",
       "      <th>basex</th>\n",
       "      <th>basey</th>\n",
       "      <th>f</th>\n",
       "      <th>graphnum</th>\n",
       "      <th>pagenum</th>\n",
       "      <th>Unnamed: 7</th>\n",
       "      <th>f changed</th>\n",
       "      <th>Guess</th>\n",
       "      <th>Actual</th>\n",
       "      <th>Check</th>\n",
       "      <th>average</th>\n",
       "    </tr>\n",
       "  </thead>\n",
       "  <tbody>\n",
       "    <tr>\n",
       "      <td>24</td>\n",
       "      <td>1</td>\n",
       "      <td>0.295082</td>\n",
       "      <td>0.000000</td>\n",
       "      <td>50</td>\n",
       "      <td>-19.830734</td>\n",
       "      <td>31</td>\n",
       "      <td>5</td>\n",
       "      <td>left</td>\n",
       "      <td>0.169266</td>\n",
       "      <td>transit</td>\n",
       "      <td>Retail</td>\n",
       "      <td>False</td>\n",
       "      <td>0.526232</td>\n",
       "    </tr>\n",
       "    <tr>\n",
       "      <td>25</td>\n",
       "      <td>1</td>\n",
       "      <td>-0.371582</td>\n",
       "      <td>0.000000</td>\n",
       "      <td>50</td>\n",
       "      <td>-18.830734</td>\n",
       "      <td>32</td>\n",
       "      <td>5</td>\n",
       "      <td>middle</td>\n",
       "      <td>0.169266</td>\n",
       "      <td>workplace</td>\n",
       "      <td>Grocery</td>\n",
       "      <td>False</td>\n",
       "      <td>0.526232</td>\n",
       "    </tr>\n",
       "    <tr>\n",
       "      <td>26</td>\n",
       "      <td>1</td>\n",
       "      <td>0.295082</td>\n",
       "      <td>185.714280</td>\n",
       "      <td>50</td>\n",
       "      <td>-26.078766</td>\n",
       "      <td>33</td>\n",
       "      <td>5</td>\n",
       "      <td>left</td>\n",
       "      <td>-0.078766</td>\n",
       "      <td>transit</td>\n",
       "      <td>Transit</td>\n",
       "      <td>True</td>\n",
       "      <td>0.526232</td>\n",
       "    </tr>\n",
       "    <tr>\n",
       "      <td>27</td>\n",
       "      <td>1</td>\n",
       "      <td>-0.371582</td>\n",
       "      <td>0.000000</td>\n",
       "      <td>50</td>\n",
       "      <td>-29.078766</td>\n",
       "      <td>34</td>\n",
       "      <td>5</td>\n",
       "      <td>middle</td>\n",
       "      <td>-0.078766</td>\n",
       "      <td>workplace</td>\n",
       "      <td>Workplace</td>\n",
       "      <td>True</td>\n",
       "      <td>0.526232</td>\n",
       "    </tr>\n",
       "    <tr>\n",
       "      <td>28</td>\n",
       "      <td>1</td>\n",
       "      <td>0.295082</td>\n",
       "      <td>0.000000</td>\n",
       "      <td>50</td>\n",
       "      <td>-28.884186</td>\n",
       "      <td>35</td>\n",
       "      <td>5</td>\n",
       "      <td>left</td>\n",
       "      <td>0.115814</td>\n",
       "      <td>transit</td>\n",
       "      <td>Retail</td>\n",
       "      <td>False</td>\n",
       "      <td>0.526232</td>\n",
       "    </tr>\n",
       "    <tr>\n",
       "      <td>29</td>\n",
       "      <td>1</td>\n",
       "      <td>-0.371582</td>\n",
       "      <td>0.000000</td>\n",
       "      <td>50</td>\n",
       "      <td>-18.884186</td>\n",
       "      <td>36</td>\n",
       "      <td>5</td>\n",
       "      <td>middle</td>\n",
       "      <td>0.115814</td>\n",
       "      <td>workplace</td>\n",
       "      <td>Grocery</td>\n",
       "      <td>False</td>\n",
       "      <td>0.526232</td>\n",
       "    </tr>\n",
       "    <tr>\n",
       "      <td>30</td>\n",
       "      <td>1</td>\n",
       "      <td>-0.038269</td>\n",
       "      <td>166.666672</td>\n",
       "      <td>50</td>\n",
       "      <td>-28.884186</td>\n",
       "      <td>37</td>\n",
       "      <td>5</td>\n",
       "      <td>right</td>\n",
       "      <td>0.115814</td>\n",
       "      <td>Residential</td>\n",
       "      <td>Parks</td>\n",
       "      <td>False</td>\n",
       "      <td>0.526232</td>\n",
       "    </tr>\n",
       "    <tr>\n",
       "      <td>31</td>\n",
       "      <td>1</td>\n",
       "      <td>-0.371582</td>\n",
       "      <td>0.000000</td>\n",
       "      <td>50</td>\n",
       "      <td>-28.132263</td>\n",
       "      <td>38</td>\n",
       "      <td>5</td>\n",
       "      <td>middle</td>\n",
       "      <td>-0.132263</td>\n",
       "      <td>workplace</td>\n",
       "      <td>Workplace</td>\n",
       "      <td>True</td>\n",
       "      <td>0.526232</td>\n",
       "    </tr>\n",
       "    <tr>\n",
       "      <td>32</td>\n",
       "      <td>1</td>\n",
       "      <td>-0.038269</td>\n",
       "      <td>0.000000</td>\n",
       "      <td>50</td>\n",
       "      <td>-21.132263</td>\n",
       "      <td>39</td>\n",
       "      <td>5</td>\n",
       "      <td>right</td>\n",
       "      <td>-0.132263</td>\n",
       "      <td>Residential</td>\n",
       "      <td>Residential</td>\n",
       "      <td>True</td>\n",
       "      <td>0.526232</td>\n",
       "    </tr>\n",
       "  </tbody>\n",
       "</table>\n",
       "</div>"
      ],
      "text/plain": [
       "    statenum         e       basex  basey          f  graphnum  pagenum  \\\n",
       "24         1  0.295082    0.000000     50 -19.830734        31        5   \n",
       "25         1 -0.371582    0.000000     50 -18.830734        32        5   \n",
       "26         1  0.295082  185.714280     50 -26.078766        33        5   \n",
       "27         1 -0.371582    0.000000     50 -29.078766        34        5   \n",
       "28         1  0.295082    0.000000     50 -28.884186        35        5   \n",
       "29         1 -0.371582    0.000000     50 -18.884186        36        5   \n",
       "30         1 -0.038269  166.666672     50 -28.884186        37        5   \n",
       "31         1 -0.371582    0.000000     50 -28.132263        38        5   \n",
       "32         1 -0.038269    0.000000     50 -21.132263        39        5   \n",
       "\n",
       "   Unnamed: 7  f changed        Guess       Actual  Check   average  \n",
       "24       left   0.169266      transit       Retail  False  0.526232  \n",
       "25     middle   0.169266    workplace      Grocery  False  0.526232  \n",
       "26       left  -0.078766      transit      Transit   True  0.526232  \n",
       "27     middle  -0.078766    workplace    Workplace   True  0.526232  \n",
       "28       left   0.115814      transit       Retail  False  0.526232  \n",
       "29     middle   0.115814    workplace      Grocery  False  0.526232  \n",
       "30      right   0.115814  Residential        Parks  False  0.526232  \n",
       "31     middle  -0.132263    workplace    Workplace   True  0.526232  \n",
       "32      right  -0.132263  Residential  Residential   True  0.526232  "
      ]
     },
     "execution_count": 34,
     "metadata": {},
     "output_type": "execute_result"
    }
   ],
   "source": [
    "i = 5\n",
    "our_vals.loc[our_vals[\"pagenum\"] == i]"
   ]
  },
  {
   "cell_type": "code",
   "execution_count": 35,
   "metadata": {},
   "outputs": [
    {
     "ename": "TypeError",
     "evalue": "unhashable type: 'list'",
     "output_type": "error",
     "traceback": [
      "\u001b[1;31m---------------------------------------------------------------------------\u001b[0m",
      "\u001b[1;31mTypeError\u001b[0m                                 Traceback (most recent call last)",
      "\u001b[1;32m<ipython-input-35-eed32ee706a0>\u001b[0m in \u001b[0;36m<module>\u001b[1;34m\u001b[0m\n\u001b[1;32m----> 1\u001b[1;33m \u001b[0mmydic\u001b[0m \u001b[1;33m=\u001b[0m \u001b[0mdict\u001b[0m\u001b[1;33m(\u001b[0m\u001b[0mzip\u001b[0m\u001b[1;33m(\u001b[0m\u001b[0mnew\u001b[0m\u001b[1;33m[\u001b[0m\u001b[1;36m1\u001b[0m\u001b[1;33m]\u001b[0m\u001b[1;33m,\u001b[0m \u001b[0mnew\u001b[0m\u001b[1;33m[\u001b[0m\u001b[1;36m0\u001b[0m\u001b[1;33m]\u001b[0m\u001b[1;33m)\u001b[0m\u001b[1;33m)\u001b[0m\u001b[1;33m\u001b[0m\u001b[1;33m\u001b[0m\u001b[0m\n\u001b[0m",
      "\u001b[1;31mTypeError\u001b[0m: unhashable type: 'list'"
     ]
    }
   ],
   "source": [
    "mydic = dict(zip(new[1], new[0]))"
   ]
  },
  {
   "cell_type": "code",
   "execution_count": 36,
   "metadata": {},
   "outputs": [
    {
     "ename": "NameError",
     "evalue": "name 'mydic' is not defined",
     "output_type": "error",
     "traceback": [
      "\u001b[1;31m---------------------------------------------------------------------------\u001b[0m",
      "\u001b[1;31mNameError\u001b[0m                                 Traceback (most recent call last)",
      "\u001b[1;32m<ipython-input-36-1a21bad319bc>\u001b[0m in \u001b[0;36m<module>\u001b[1;34m\u001b[0m\n\u001b[1;32m----> 1\u001b[1;33m \u001b[0mmydic\u001b[0m\u001b[1;33m[\u001b[0m\u001b[1;34m'test'\u001b[0m\u001b[1;33m]\u001b[0m\u001b[1;33m\u001b[0m\u001b[1;33m\u001b[0m\u001b[0m\n\u001b[0m",
      "\u001b[1;31mNameError\u001b[0m: name 'mydic' is not defined"
     ]
    }
   ],
   "source": [
    "mydic['test']"
   ]
  },
  {
   "cell_type": "code",
   "execution_count": 37,
   "metadata": {},
   "outputs": [],
   "source": [
    "all_dates = [195.2381,\n",
    "    190.4762,\n",
    "    185.71428,\n",
    "    180.95238,\n",
    "    176.19048,\n",
    "    171.42857,\n",
    "    166.666672,\n",
    "    161.904755,\n",
    "    157.142853,\n",
    "    152.380951, \n",
    "    147.619049, \n",
    "    142.857147, \n",
    "    138.095245, \n",
    "    133.333328, \n",
    "    128.571426, \n",
    "    123.809525, \n",
    "    119.047623, \n",
    "    114.285713, \n",
    "    109.523811, \n",
    "    104.761902, \n",
    "    100.0, \n",
    "    95.238098, \n",
    "    90.476189, \n",
    "    85.714287, \n",
    "    80.952377, \n",
    "    76.190475, \n",
    "    71.428574, \n",
    "    66.666664, \n",
    "    61.904762, \n",
    "    57.142857, \n",
    "    52.380951, \n",
    "    47.619049, \n",
    "    42.857143, \n",
    "    38.095238, \n",
    "    33.333332, \n",
    "    28.571428, \n",
    "    23.809525, \n",
    "    19.047619, \n",
    "    14.2857141, \n",
    "    9.5238094, \n",
    "    4.7619047, \n",
    "    0.0] "
   ]
  },
  {
   "cell_type": "code",
   "execution_count": 38,
   "metadata": {},
   "outputs": [],
   "source": [
    "all_dates.sort()"
   ]
  },
  {
   "cell_type": "code",
   "execution_count": 39,
   "metadata": {},
   "outputs": [
    {
     "data": {
      "text/plain": [
       "[0.0,\n",
       " 4.7619047,\n",
       " 9.5238094,\n",
       " 14.2857141,\n",
       " 19.047619,\n",
       " 23.809525,\n",
       " 28.571428,\n",
       " 33.333332,\n",
       " 38.095238,\n",
       " 42.857143,\n",
       " 47.619049,\n",
       " 52.380951,\n",
       " 57.142857,\n",
       " 61.904762,\n",
       " 66.666664,\n",
       " 71.428574,\n",
       " 76.190475,\n",
       " 80.952377,\n",
       " 85.714287,\n",
       " 90.476189,\n",
       " 95.238098,\n",
       " 100.0,\n",
       " 104.761902,\n",
       " 109.523811,\n",
       " 114.285713,\n",
       " 119.047623,\n",
       " 123.809525,\n",
       " 128.571426,\n",
       " 133.333328,\n",
       " 138.095245,\n",
       " 142.857147,\n",
       " 147.619049,\n",
       " 152.380951,\n",
       " 157.142853,\n",
       " 161.904755,\n",
       " 166.666672,\n",
       " 171.42857,\n",
       " 176.19048,\n",
       " 180.95238,\n",
       " 185.71428,\n",
       " 190.4762,\n",
       " 195.2381]"
      ]
     },
     "execution_count": 39,
     "metadata": {},
     "output_type": "execute_result"
    }
   ],
   "source": [
    "all_dates"
   ]
  },
  {
   "cell_type": "code",
   "execution_count": null,
   "metadata": {},
   "outputs": [],
   "source": []
  },
  {
   "cell_type": "code",
   "execution_count": null,
   "metadata": {},
   "outputs": [],
   "source": []
  }
 ],
 "metadata": {
  "kernelspec": {
   "display_name": "Python 3",
   "language": "python",
   "name": "python3"
  },
  "language_info": {
   "codemirror_mode": {
    "name": "ipython",
    "version": 3
   },
   "file_extension": ".py",
   "mimetype": "text/x-python",
   "name": "python",
   "nbconvert_exporter": "python",
   "pygments_lexer": "ipython3",
   "version": "3.7.1"
  }
 },
 "nbformat": 4,
 "nbformat_minor": 2
}
