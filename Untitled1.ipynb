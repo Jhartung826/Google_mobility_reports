{
 "cells": [
  {
   "cell_type": "code",
   "execution_count": 1,
   "metadata": {},
   "outputs": [],
   "source": [
    "import pandas as pd\n",
    "import json\n",
    "import numpy as np"
   ]
  },
  {
   "cell_type": "code",
   "execution_count": 2,
   "metadata": {},
   "outputs": [],
   "source": [
    "with open('_06_07_2020_Mobility.json') as f:\n",
    "    data = json.load(f)"
   ]
  },
  {
   "cell_type": "code",
   "execution_count": 3,
   "metadata": {},
   "outputs": [],
   "source": [
    "todays = '06/07/20'"
   ]
  },
  {
   "cell_type": "code",
   "execution_count": 4,
   "metadata": {},
   "outputs": [],
   "source": [
    "industries = ['Retail & recreation','Grocery & pharmacy', 'Parks', 'Transit stations',  'Workplaces', 'Residential']\n",
    "state_list = []\n",
    "county_list = []\n",
    "industry_list = []\n",
    "pct_error_list = []\n",
    "date_list = []\n",
    "value_list = []\n",
    "for i in range(len(data)):\n",
    "    state = data[i]['State']\n",
    "    county = np.nan\n",
    "    for ind in industries:\n",
    "        if len(data[i][ind]) > 1:\n",
    "            for v in range(len(data[i][ind][0])):\n",
    "                state_list.append(state)\n",
    "                county_list.append(county)\n",
    "                industry_list.append(ind)\n",
    "                date_list.append(data[i][ind][0][v])\n",
    "                value_list.append(data[i][ind][1][v])\n",
    "                pct_error_list.append(data[i][f\"{ind} Percent Error\"][0])\n",
    "        else:\n",
    "            state_list.append(state)\n",
    "            county_list.append(county)\n",
    "            industry_list.append(ind)\n",
    "            pct_error_list.append(np.nan)\n",
    "            date_list.append(todays)\n",
    "            value_list.append(data[i][ind][0])\n",
    "        for c in range(len(data[i]['Counties'])):\n",
    "            county = data[i]['Counties'][c]['Name']\n",
    "            if len(data[i]['Counties'][c][ind]) > 1:\n",
    "                for v in range(len(data[i]['Counties'][c][ind][0])):\n",
    "                    state_list.append(state)\n",
    "                    county_list.append(county)\n",
    "                    industry_list.append(ind)\n",
    "                    date_list.append(data[i]['Counties'][c][ind][0][v])\n",
    "                    value_list.append(data[i]['Counties'][c][ind][1][v])\n",
    "                    pct_error_list.append(data[i]['Counties'][c][f\"{ind} Percent Error\"][0])\n",
    "            else:\n",
    "                state_list.append(state)\n",
    "                county_list.append(county)\n",
    "                industry_list.append(ind)\n",
    "                pct_error_list.append(np.nan)\n",
    "                date_list.append(todays)\n",
    "                value_list.append(data[i]['Counties'][c][ind][0])\n",
    "df = pd.DataFrame({\n",
    "    'State': state_list,\n",
    "    'County': county_list,\n",
    "    'Industry': industry_list,\n",
    "    'Percent Error': pct_error_list,\n",
    "    'Date': date_list,\n",
    "    'Change compared to baseline': value_list\n",
    "})\n",
    "df.to_csv('Mobility_report_june.csv', index=False)"
   ]
  },
  {
   "cell_type": "code",
   "execution_count": 5,
   "metadata": {},
   "outputs": [
    {
     "data": {
      "text/plain": [
       "43"
      ]
     },
     "execution_count": 5,
     "metadata": {},
     "output_type": "execute_result"
    }
   ],
   "source": [
    "ind = 'Retail & recreation'\n",
    "len(data[0]['Counties'][0][ind][0])"
   ]
  },
  {
   "cell_type": "code",
   "execution_count": 7,
   "metadata": {},
   "outputs": [
    {
     "data": {
      "text/plain": [
       "[['03/15/20',\n",
       "  '03/16/20',\n",
       "  '03/17/20',\n",
       "  '03/18/20',\n",
       "  '03/19/20',\n",
       "  '03/20/20',\n",
       "  '03/21/20',\n",
       "  '03/22/20',\n",
       "  '03/23/20',\n",
       "  '03/24/20',\n",
       "  '03/25/20',\n",
       "  '03/26/20',\n",
       "  '03/27/20',\n",
       "  '03/28/20',\n",
       "  '03/29/20',\n",
       "  '03/30/20',\n",
       "  '03/31/20',\n",
       "  '04/01/20',\n",
       "  '04/02/20',\n",
       "  '04/03/20',\n",
       "  '04/04/20',\n",
       "  '04/05/20',\n",
       "  '04/06/20',\n",
       "  '04/07/20',\n",
       "  '04/08/20',\n",
       "  '04/09/20',\n",
       "  '04/10/20',\n",
       "  '04/11/20',\n",
       "  '04/12/20',\n",
       "  '04/13/20',\n",
       "  '04/14/20',\n",
       "  '04/15/20',\n",
       "  '04/16/20',\n",
       "  '04/17/20',\n",
       "  '04/18/20',\n",
       "  '04/19/20',\n",
       "  '04/20/20',\n",
       "  '04/21/20',\n",
       "  '04/22/20',\n",
       "  '04/23/20',\n",
       "  '04/24/20',\n",
       "  '04/25/20',\n",
       "  '04/26/20'],\n",
       " [-6.081078400000002,\n",
       "  -12.889812800000005,\n",
       "  -18.346771200000003,\n",
       "  -22.709168000000002,\n",
       "  -25.748499199999994,\n",
       "  -29.497912,\n",
       "  -17.9190736,\n",
       "  -31.7567632,\n",
       "  -33.67983360000001,\n",
       "  -34.47580640000001,\n",
       "  -36.653380799999994,\n",
       "  -36.1277472,\n",
       "  -35.98326400000001,\n",
       "  -19.075147200000004,\n",
       "  -35.135131200000004,\n",
       "  -35.758838399999995,\n",
       "  -38.91129120000001,\n",
       "  -38.64542240000001,\n",
       "  -37.924145599999996,\n",
       "  -38.7029296,\n",
       "  -24.855492800000004,\n",
       "  -37.837841600000004,\n",
       "  -39.708935999999994,\n",
       "  -41.733875200000014,\n",
       "  -42.828686399999995,\n",
       "  -42.514966400000006,\n",
       "  -48.744776,\n",
       "  -30.0578,\n",
       "  -46.2837888,\n",
       "  -40.1767216,\n",
       "  -40.37298559999999,\n",
       "  -41.0109616,\n",
       "  -39.520959999999995,\n",
       "  -40.32426720000001,\n",
       "  -25.3612672,\n",
       "  -42.56756640000001,\n",
       "  -37.577966399999994,\n",
       "  -38.2560432,\n",
       "  -39.5418336,\n",
       "  -41.242516800000004,\n",
       "  -37.52614719999999,\n",
       "  -18.7861264,\n",
       "  -31.334460800000013]]"
      ]
     },
     "execution_count": 7,
     "metadata": {},
     "output_type": "execute_result"
    }
   ],
   "source": [
    "data[0]['Counties'][0]['Workplaces']"
   ]
  },
  {
   "cell_type": "code",
   "execution_count": null,
   "metadata": {},
   "outputs": [],
   "source": []
  }
 ],
 "metadata": {
  "kernelspec": {
   "display_name": "Python 3",
   "language": "python",
   "name": "python3"
  },
  "language_info": {
   "codemirror_mode": {
    "name": "ipython",
    "version": 3
   },
   "file_extension": ".py",
   "mimetype": "text/x-python",
   "name": "python",
   "nbconvert_exporter": "python",
   "pygments_lexer": "ipython3",
   "version": "3.7.1"
  }
 },
 "nbformat": 4,
 "nbformat_minor": 2
}
